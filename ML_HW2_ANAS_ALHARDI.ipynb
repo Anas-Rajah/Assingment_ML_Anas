{
 "cells": [
  {
   "cell_type": "markdown",
   "id": "93b51ed4",
   "metadata": {},
   "source": [
    "#  ####_Assingnment_2 (ANAS ALHARDI)_#####"
   ]
  },
  {
   "cell_type": "markdown",
   "id": "fd7cddb7",
   "metadata": {},
   "source": [
    "# ======================"
   ]
  },
  {
   "cell_type": "markdown",
   "id": "cd79f075",
   "metadata": {},
   "source": [
    "## Step 1: Load the Iris dataset\n",
    "\n"
   ]
  },
  {
   "cell_type": "code",
   "execution_count": 1,
   "id": "1804a356",
   "metadata": {},
   "outputs": [],
   "source": [
    "from sklearn.datasets import load_iris\n",
    "\n",
    "# Load the Iris dataset\n",
    "iris = load_iris()\n",
    "\n",
    "# Extract the feature matrix X and the target vector y\n",
    "X = iris.data\n",
    "y = iris.target"
   ]
  },
  {
   "cell_type": "markdown",
   "id": "1108e11a",
   "metadata": {},
   "source": [
    "## Step 2: Preprocess the data\n",
    "\n"
   ]
  },
  {
   "cell_type": "code",
   "execution_count": 2,
   "id": "d0d31ec0",
   "metadata": {},
   "outputs": [],
   "source": [
    "# Create a new target vector y_binary\n",
    "y_binary = (y == 0).astype(int)"
   ]
  },
  {
   "cell_type": "markdown",
   "id": "d03376f2",
   "metadata": {},
   "source": [
    "## Step 3: Split the dataset\n",
    "\n"
   ]
  },
  {
   "cell_type": "code",
   "execution_count": 3,
   "id": "6f1c39e2",
   "metadata": {},
   "outputs": [],
   "source": [
    "from sklearn.model_selection import train_test_split\n",
    "\n",
    "# Split the dataset into training and testing sets\n",
    "X_train, X_test, y_train, y_test = train_test_split(X, y_binary, test_size=0.2, random_state=42)"
   ]
  },
  {
   "cell_type": "markdown",
   "id": "1e0b3768",
   "metadata": {},
   "source": [
    "## Step 4: Define the cost function (logistic loss)\n",
    "\n"
   ]
  },
  {
   "cell_type": "code",
   "execution_count": 4,
   "id": "1957e599",
   "metadata": {},
   "outputs": [],
   "source": [
    "import numpy as np\n",
    "\n",
    "def logistic_loss(y_true, y_pred):\n",
    "    epsilon = 1e-15\n",
    "    y_pred = np.clip(y_pred, epsilon, 1 - epsilon)\n",
    "    return - (y_true * np.log(y_pred) + (1 - y_true) * np.log(1 - y_pred)).mean()"
   ]
  },
  {
   "cell_type": "markdown",
   "id": "303c63f0",
   "metadata": {},
   "source": [
    "## Step 5: Define the training function\n",
    "\n"
   ]
  },
  {
   "cell_type": "code",
   "execution_count": 5,
   "id": "e5eba84d",
   "metadata": {},
   "outputs": [],
   "source": [
    "def train_logistic_regression(X, y, learning_rate, num_iterations, regularization_param):\n",
    "    # Initialize weights and bias\n",
    "    W = np.zeros(X.shape[1])\n",
    "    b = 0\n",
    "\n",
    "    for _ in range(num_iterations):\n",
    "        # Calculate predictions\n",
    "        z = np.dot(X, W) + b\n",
    "        y_pred = 1 / (1 + np.exp(-z))\n",
    "\n",
    "        # Calculate gradients\n",
    "        dw = (1 / len(y)) * np.dot(X.T, (y_pred - y))\n",
    "        db = (1 / len(y)) * np.sum(y_pred - y)\n",
    "\n",
    "        # Update weights and bias\n",
    "        W -= learning_rate * (dw + 2 * regularization_param * W)\n",
    "        b -= learning_rate * db\n",
    "\n",
    "    return W, b"
   ]
  },
  {
   "cell_type": "markdown",
   "id": "25594011",
   "metadata": {},
   "source": [
    "## Step 6: Train the model\n",
    "\n"
   ]
  },
  {
   "cell_type": "code",
   "execution_count": 6,
   "id": "d3833dbf",
   "metadata": {},
   "outputs": [],
   "source": [
    "learning_rate = 0.01\n",
    "num_iterations = 1000\n",
    "regularization_param = 0.1\n",
    "\n",
    "W, b = train_logistic_regression(X_train, y_train, learning_rate, num_iterations, regularization_param)"
   ]
  },
  {
   "cell_type": "markdown",
   "id": "9ccbef2c",
   "metadata": {},
   "source": [
    "## Step 7: Define the prediction function\n",
    "\n"
   ]
  },
  {
   "cell_type": "code",
   "execution_count": 7,
   "id": "911df901",
   "metadata": {},
   "outputs": [],
   "source": [
    "def predict(X, W, b):\n",
    "    z = np.dot(X, W) + b\n",
    "    y_pred = 1 / (1 + np.exp(-z))\n",
    "    return (y_pred > 0.5).astype(int)"
   ]
  },
  {
   "cell_type": "markdown",
   "id": "8eb2cecc",
   "metadata": {},
   "source": [
    "## Step 8: Predict on the test set\n",
    "\n"
   ]
  },
  {
   "cell_type": "code",
   "execution_count": 8,
   "id": "f913639d",
   "metadata": {},
   "outputs": [],
   "source": [
    "y_pred_test = predict(X_test, W, b)"
   ]
  },
  {
   "cell_type": "markdown",
   "id": "1a95246e",
   "metadata": {},
   "source": [
    "## Step 9: Evaluate the model's performance"
   ]
  },
  {
   "cell_type": "code",
   "execution_count": 9,
   "id": "11e6d9cb",
   "metadata": {},
   "outputs": [
    {
     "name": "stdout",
     "output_type": "stream",
     "text": [
      "Accuracy: 1.0\n",
      "Confusion Matrix:\n",
      "[[20  0]\n",
      " [ 0 10]]\n",
      "Classification Report:\n",
      "              precision    recall  f1-score   support\n",
      "\n",
      "           0       1.00      1.00      1.00        20\n",
      "           1       1.00      1.00      1.00        10\n",
      "\n",
      "    accuracy                           1.00        30\n",
      "   macro avg       1.00      1.00      1.00        30\n",
      "weighted avg       1.00      1.00      1.00        30\n",
      "\n"
     ]
    }
   ],
   "source": [
    "from sklearn.metrics import accuracy_score, confusion_matrix, classification_report\n",
    "\n",
    "# Calculate accuracy\n",
    "accuracy = accuracy_score(y_test, y_pred_test)\n",
    "\n",
    "# Generate confusion matrix\n",
    "conf_matrix = confusion_matrix(y_test, y_pred_test)\n",
    "\n",
    "# Generate classification report\n",
    "class_report = classification_report(y_test, y_pred_test)\n",
    "\n",
    "# Print out the results\n",
    "print(f'Accuracy: {accuracy}')\n",
    "print(f'Confusion Matrix:\\n{conf_matrix}')\n",
    "print(f'Classification Report:\\n{class_report}')"
   ]
  }
 ],
 "metadata": {
  "kernelspec": {
   "display_name": "Python 3 (ipykernel)",
   "language": "python",
   "name": "python3"
  },
  "language_info": {
   "codemirror_mode": {
    "name": "ipython",
    "version": 3
   },
   "file_extension": ".py",
   "mimetype": "text/x-python",
   "name": "python",
   "nbconvert_exporter": "python",
   "pygments_lexer": "ipython3",
   "version": "3.9.12"
  }
 },
 "nbformat": 4,
 "nbformat_minor": 5
}
